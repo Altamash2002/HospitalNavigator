{
  "nbformat": 4,
  "nbformat_minor": 0,
  "metadata": {
    "colab": {
      "provenance": []
    },
    "kernelspec": {
      "name": "python3",
      "display_name": "Python 3"
    },
    "language_info": {
      "name": "python"
    },
    "widgets": {
      "application/vnd.jupyter.widget-state+json": {
        "61e1522fc4bf4985a4a7798a4e0bd391": {
          "model_module": "@jupyter-widgets/controls",
          "model_name": "VBoxModel",
          "model_module_version": "1.5.0",
          "state": {
            "_dom_classes": [
              "widget-interact"
            ],
            "_model_module": "@jupyter-widgets/controls",
            "_model_module_version": "1.5.0",
            "_model_name": "VBoxModel",
            "_view_count": null,
            "_view_module": "@jupyter-widgets/controls",
            "_view_module_version": "1.5.0",
            "_view_name": "VBoxView",
            "box_style": "",
            "children": [
              "IPY_MODEL_8c6538488969483b91322b70e94a774f",
              "IPY_MODEL_864b2535693f4f8680533f3744172c11"
            ],
            "layout": "IPY_MODEL_4d4f8377979a4bb0b6002b1c4c326b3a"
          }
        },
        "8c6538488969483b91322b70e94a774f": {
          "model_module": "@jupyter-widgets/controls",
          "model_name": "SelectModel",
          "model_module_version": "1.5.0",
          "state": {
            "_dom_classes": [],
            "_model_module": "@jupyter-widgets/controls",
            "_model_module_version": "1.5.0",
            "_model_name": "SelectModel",
            "_options_labels": [
              "Aufnahme",
              "Eingang West",
              "Eingang Ost",
              "Eingang Fahrzeuge"
            ],
            "_view_count": null,
            "_view_module": "@jupyter-widgets/controls",
            "_view_module_version": "1.5.0",
            "_view_name": "SelectView",
            "description": "Start",
            "description_tooltip": null,
            "disabled": false,
            "index": 1,
            "layout": "IPY_MODEL_a0cf4393f9a440f5be29d810677d0ca4",
            "rows": 5,
            "style": "IPY_MODEL_f565135ebf1443f3b719258fa8688720"
          }
        },
        "864b2535693f4f8680533f3744172c11": {
          "model_module": "@jupyter-widgets/output",
          "model_name": "OutputModel",
          "model_module_version": "1.0.0",
          "state": {
            "_dom_classes": [],
            "_model_module": "@jupyter-widgets/output",
            "_model_module_version": "1.0.0",
            "_model_name": "OutputModel",
            "_view_count": null,
            "_view_module": "@jupyter-widgets/output",
            "_view_module_version": "1.0.0",
            "_view_name": "OutputView",
            "layout": "IPY_MODEL_10cfa44ff07d4f4d85e8bc2069197235",
            "msg_id": "",
            "outputs": [
              {
                "output_type": "stream",
                "name": "stdout",
                "text": [
                  "Selected Start: w; Selected Target: Haus17\n"
                ]
              }
            ]
          }
        },
        "4d4f8377979a4bb0b6002b1c4c326b3a": {
          "model_module": "@jupyter-widgets/base",
          "model_name": "LayoutModel",
          "model_module_version": "1.2.0",
          "state": {
            "_model_module": "@jupyter-widgets/base",
            "_model_module_version": "1.2.0",
            "_model_name": "LayoutModel",
            "_view_count": null,
            "_view_module": "@jupyter-widgets/base",
            "_view_module_version": "1.2.0",
            "_view_name": "LayoutView",
            "align_content": null,
            "align_items": null,
            "align_self": null,
            "border": null,
            "bottom": null,
            "display": null,
            "flex": null,
            "flex_flow": null,
            "grid_area": null,
            "grid_auto_columns": null,
            "grid_auto_flow": null,
            "grid_auto_rows": null,
            "grid_column": null,
            "grid_gap": null,
            "grid_row": null,
            "grid_template_areas": null,
            "grid_template_columns": null,
            "grid_template_rows": null,
            "height": null,
            "justify_content": null,
            "justify_items": null,
            "left": null,
            "margin": null,
            "max_height": null,
            "max_width": null,
            "min_height": null,
            "min_width": null,
            "object_fit": null,
            "object_position": null,
            "order": null,
            "overflow": null,
            "overflow_x": null,
            "overflow_y": null,
            "padding": null,
            "right": null,
            "top": null,
            "visibility": null,
            "width": null
          }
        },
        "a0cf4393f9a440f5be29d810677d0ca4": {
          "model_module": "@jupyter-widgets/base",
          "model_name": "LayoutModel",
          "model_module_version": "1.2.0",
          "state": {
            "_model_module": "@jupyter-widgets/base",
            "_model_module_version": "1.2.0",
            "_model_name": "LayoutModel",
            "_view_count": null,
            "_view_module": "@jupyter-widgets/base",
            "_view_module_version": "1.2.0",
            "_view_name": "LayoutView",
            "align_content": null,
            "align_items": null,
            "align_self": null,
            "border": null,
            "bottom": null,
            "display": null,
            "flex": null,
            "flex_flow": null,
            "grid_area": null,
            "grid_auto_columns": null,
            "grid_auto_flow": null,
            "grid_auto_rows": null,
            "grid_column": null,
            "grid_gap": null,
            "grid_row": null,
            "grid_template_areas": null,
            "grid_template_columns": null,
            "grid_template_rows": null,
            "height": null,
            "justify_content": null,
            "justify_items": null,
            "left": null,
            "margin": null,
            "max_height": null,
            "max_width": null,
            "min_height": null,
            "min_width": null,
            "object_fit": null,
            "object_position": null,
            "order": null,
            "overflow": null,
            "overflow_x": null,
            "overflow_y": null,
            "padding": null,
            "right": null,
            "top": null,
            "visibility": null,
            "width": null
          }
        },
        "f565135ebf1443f3b719258fa8688720": {
          "model_module": "@jupyter-widgets/controls",
          "model_name": "DescriptionStyleModel",
          "model_module_version": "1.5.0",
          "state": {
            "_model_module": "@jupyter-widgets/controls",
            "_model_module_version": "1.5.0",
            "_model_name": "DescriptionStyleModel",
            "_view_count": null,
            "_view_module": "@jupyter-widgets/base",
            "_view_module_version": "1.2.0",
            "_view_name": "StyleView",
            "description_width": ""
          }
        },
        "10cfa44ff07d4f4d85e8bc2069197235": {
          "model_module": "@jupyter-widgets/base",
          "model_name": "LayoutModel",
          "model_module_version": "1.2.0",
          "state": {
            "_model_module": "@jupyter-widgets/base",
            "_model_module_version": "1.2.0",
            "_model_name": "LayoutModel",
            "_view_count": null,
            "_view_module": "@jupyter-widgets/base",
            "_view_module_version": "1.2.0",
            "_view_name": "LayoutView",
            "align_content": null,
            "align_items": null,
            "align_self": null,
            "border": null,
            "bottom": null,
            "display": null,
            "flex": null,
            "flex_flow": null,
            "grid_area": null,
            "grid_auto_columns": null,
            "grid_auto_flow": null,
            "grid_auto_rows": null,
            "grid_column": null,
            "grid_gap": null,
            "grid_row": null,
            "grid_template_areas": null,
            "grid_template_columns": null,
            "grid_template_rows": null,
            "height": null,
            "justify_content": null,
            "justify_items": null,
            "left": null,
            "margin": null,
            "max_height": null,
            "max_width": null,
            "min_height": null,
            "min_width": null,
            "object_fit": null,
            "object_position": null,
            "order": null,
            "overflow": null,
            "overflow_x": null,
            "overflow_y": null,
            "padding": null,
            "right": null,
            "top": null,
            "visibility": null,
            "width": null
          }
        },
        "298aefb7ff40459bb1691ae19635d764": {
          "model_module": "@jupyter-widgets/controls",
          "model_name": "VBoxModel",
          "model_module_version": "1.5.0",
          "state": {
            "_dom_classes": [
              "widget-interact"
            ],
            "_model_module": "@jupyter-widgets/controls",
            "_model_module_version": "1.5.0",
            "_model_name": "VBoxModel",
            "_view_count": null,
            "_view_module": "@jupyter-widgets/controls",
            "_view_module_version": "1.5.0",
            "_view_name": "VBoxView",
            "box_style": "",
            "children": [
              "IPY_MODEL_7843da3178d947c69c0b6af1aa5314ee",
              "IPY_MODEL_3406554ab4b54d4896011d8aa970a2f7"
            ],
            "layout": "IPY_MODEL_cbb7e8171dc14107b18df2d2d36eea47"
          }
        },
        "7843da3178d947c69c0b6af1aa5314ee": {
          "model_module": "@jupyter-widgets/controls",
          "model_name": "SelectModel",
          "model_module_version": "1.5.0",
          "state": {
            "_dom_classes": [],
            "_model_module": "@jupyter-widgets/controls",
            "_model_module_version": "1.5.0",
            "_model_name": "SelectModel",
            "_options_labels": [
              "Haus1",
              "Haus10",
              "Haus11",
              "Haus12",
              "Haus13",
              "Haus14",
              "Haus15",
              "Haus16",
              "Haus17",
              "Haus19",
              "Haus2",
              "Haus20",
              "Haus22",
              "Haus24",
              "Haus25",
              "Haus26",
              "Haus27",
              "Haus28",
              "Haus29",
              "Haus3",
              "Haus30",
              "Haus31",
              "Haus32",
              "Haus33",
              "Haus34",
              "Haus35",
              "Haus36",
              "Haus37",
              "Haus39",
              "Haus4",
              "Haus40",
              "Haus41",
              "Haus42",
              "Haus43",
              "Haus5",
              "Haus6",
              "Haus7",
              "Haus8",
              "Haus9"
            ],
            "_view_count": null,
            "_view_module": "@jupyter-widgets/controls",
            "_view_module_version": "1.5.0",
            "_view_name": "SelectView",
            "description": "Target",
            "description_tooltip": null,
            "disabled": false,
            "index": 3,
            "layout": "IPY_MODEL_d5bea8f7ca784e10a0fad987af7cad8e",
            "rows": 5,
            "style": "IPY_MODEL_a704848b4fae40598352efc7b8d06378"
          }
        },
        "3406554ab4b54d4896011d8aa970a2f7": {
          "model_module": "@jupyter-widgets/output",
          "model_name": "OutputModel",
          "model_module_version": "1.0.0",
          "state": {
            "_dom_classes": [],
            "_model_module": "@jupyter-widgets/output",
            "_model_module_version": "1.0.0",
            "_model_name": "OutputModel",
            "_view_count": null,
            "_view_module": "@jupyter-widgets/output",
            "_view_module_version": "1.0.0",
            "_view_name": "OutputView",
            "layout": "IPY_MODEL_ed61675e2a6f4f6f85ba1408a7bc9120",
            "msg_id": "",
            "outputs": [
              {
                "output_type": "display_data",
                "data": {
                  "text/plain": "<folium.folium.Map at 0x7f2446317370>",
                  "text/html": "<div style=\"width:100%;\"><div style=\"position:relative;width:100%;height:0;padding-bottom:60%;\"><span style=\"color:#565656\">Make this Notebook Trusted to load map: File -> Trust Notebook</span><iframe srcdoc=\"&lt;!DOCTYPE html&gt;\n&lt;html&gt;\n&lt;head&gt;\n    \n    &lt;meta http-equiv=&quot;content-type&quot; content=&quot;text/html; charset=UTF-8&quot; /&gt;\n    \n        &lt;script&gt;\n            L_NO_TOUCH = false;\n            L_DISABLE_3D = false;\n        &lt;/script&gt;\n    \n    &lt;style&gt;html, body {width: 100%;height: 100%;margin: 0;padding: 0;}&lt;/style&gt;\n    &lt;style&gt;#map {position:absolute;top:0;bottom:0;right:0;left:0;}&lt;/style&gt;\n    &lt;script src=&quot;https://cdn.jsdelivr.net/npm/leaflet@1.6.0/dist/leaflet.js&quot;&gt;&lt;/script&gt;\n    &lt;script src=&quot;https://code.jquery.com/jquery-1.12.4.min.js&quot;&gt;&lt;/script&gt;\n    &lt;script src=&quot;https://maxcdn.bootstrapcdn.com/bootstrap/3.2.0/js/bootstrap.min.js&quot;&gt;&lt;/script&gt;\n    &lt;script src=&quot;https://cdnjs.cloudflare.com/ajax/libs/Leaflet.awesome-markers/2.0.2/leaflet.awesome-markers.js&quot;&gt;&lt;/script&gt;\n    &lt;link rel=&quot;stylesheet&quot; href=&quot;https://cdn.jsdelivr.net/npm/leaflet@1.6.0/dist/leaflet.css&quot;/&gt;\n    &lt;link rel=&quot;stylesheet&quot; href=&quot;https://maxcdn.bootstrapcdn.com/bootstrap/3.2.0/css/bootstrap.min.css&quot;/&gt;\n    &lt;link rel=&quot;stylesheet&quot; href=&quot;https://maxcdn.bootstrapcdn.com/bootstrap/3.2.0/css/bootstrap-theme.min.css&quot;/&gt;\n    &lt;link rel=&quot;stylesheet&quot; href=&quot;https://maxcdn.bootstrapcdn.com/font-awesome/4.6.3/css/font-awesome.min.css&quot;/&gt;\n    &lt;link rel=&quot;stylesheet&quot; href=&quot;https://cdnjs.cloudflare.com/ajax/libs/Leaflet.awesome-markers/2.0.2/leaflet.awesome-markers.css&quot;/&gt;\n    &lt;link rel=&quot;stylesheet&quot; href=&quot;https://cdn.jsdelivr.net/gh/python-visualization/folium/folium/templates/leaflet.awesome.rotate.min.css&quot;/&gt;\n    \n            &lt;meta name=&quot;viewport&quot; content=&quot;width=device-width,\n                initial-scale=1.0, maximum-scale=1.0, user-scalable=no&quot; /&gt;\n            &lt;style&gt;\n                #map_6816a6387a1f70330a4dcbb11fd5fa82 {\n                    position: relative;\n                    width: 75.0%;\n                    height: 100.0%;\n                    left: 0.0%;\n                    top: 0.0%;\n                }\n            &lt;/style&gt;\n        \n    &lt;script src=&quot;https://cdn.jsdelivr.net/npm/leaflet-ant-path@1.1.2/dist/leaflet-ant-path.min.js&quot;&gt;&lt;/script&gt;\n&lt;/head&gt;\n&lt;body&gt;\n    \n    \n            &lt;div class=&quot;folium-map&quot; id=&quot;map_6816a6387a1f70330a4dcbb11fd5fa82&quot; &gt;&lt;/div&gt;\n        \n&lt;/body&gt;\n&lt;script&gt;\n    \n    \n            var map_6816a6387a1f70330a4dcbb11fd5fa82 = L.map(\n                &quot;map_6816a6387a1f70330a4dcbb11fd5fa82&quot;,\n                {\n                    center: [19.197458724095526, 72.98346780904069],\n                    crs: L.CRS.EPSG3857,\n                    zoom: 17,\n                    zoomControl: true,\n                    preferCanvas: false,\n                }\n            );\n\n            \n\n        \n    \n            var tile_layer_029564363ae7f7be6ea95405b9a5aaae = L.tileLayer(\n                &quot;https://{s}.tile.openstreetmap.org/{z}/{x}/{y}.png&quot;,\n                {&quot;attribution&quot;: &quot;Data by \\u0026copy; \\u003ca href=\\&quot;http://openstreetmap.org\\&quot;\\u003eOpenStreetMap\\u003c/a\\u003e, under \\u003ca href=\\&quot;http://www.openstreetmap.org/copyright\\&quot;\\u003eODbL\\u003c/a\\u003e.&quot;, &quot;detectRetina&quot;: false, &quot;maxNativeZoom&quot;: 18, &quot;maxZoom&quot;: 18, &quot;minZoom&quot;: 0, &quot;noWrap&quot;: false, &quot;opacity&quot;: 1, &quot;subdomains&quot;: &quot;abc&quot;, &quot;tms&quot;: false}\n            ).addTo(map_6816a6387a1f70330a4dcbb11fd5fa82);\n        \n    \n            ant_path_26f3ee7756e4efa9042f82c60b2ea285 = L.polyline.antPath(\n              [[19.19751780494461, 72.98375117841059], [19.198435475858943, 72.98320979732227], [19.19838303765829, 72.9823769033379], [19.19928759426797, 72.98219644297563], [19.200100380022818, 72.98136354899125], [19.20057231829668, 72.98048901030913], [19.20057231829668, 72.97993374765392], [19.20176526734012, 72.97973940572317]],\n              {&quot;bubblingMouseEvents&quot;: true, &quot;color&quot;: &quot;#0000FF&quot;, &quot;dashArray&quot;: [10, 20], &quot;dashOffset&quot;: null, &quot;delay&quot;: 400, &quot;fill&quot;: false, &quot;fillColor&quot;: &quot;#3388ff&quot;, &quot;fillOpacity&quot;: 0.2, &quot;fillRule&quot;: &quot;evenodd&quot;, &quot;hardwareAcceleration&quot;: false, &quot;lineCap&quot;: &quot;round&quot;, &quot;lineJoin&quot;: &quot;round&quot;, &quot;noClip&quot;: false, &quot;opacity&quot;: 0.5, &quot;paused&quot;: false, &quot;pulseColor&quot;: &quot;#FFFFFF&quot;, &quot;reverse&quot;: false, &quot;smoothFactor&quot;: 1.0, &quot;stroke&quot;: true, &quot;weight&quot;: 5}\n        ).addTo(map_6816a6387a1f70330a4dcbb11fd5fa82);\n        \n    \n\n        function geo_json_7946b611858c2a6fadce828e04e96cde_onEachFeature(feature, layer) {\n            layer.on({\n            });\n        };\n        var geo_json_7946b611858c2a6fadce828e04e96cde = L.geoJson(null, {\n                onEachFeature: geo_json_7946b611858c2a6fadce828e04e96cde_onEachFeature,\n            \n        });\n\n        function geo_json_7946b611858c2a6fadce828e04e96cde_add (data) {\n            geo_json_7946b611858c2a6fadce828e04e96cde\n                .addData(data)\n                .addTo(map_6816a6387a1f70330a4dcbb11fd5fa82);\n        }\n            geo_json_7946b611858c2a6fadce828e04e96cde_add({&quot;features&quot;: [{&quot;geometry&quot;: {&quot;coordinates&quot;: [[[72.97963171956934, 19.201780198702878], [72.97963171956934, 19.201657908034974], [72.97984754444334, 19.201657908034974], [72.97984754444334, 19.201780198702878], [72.97963171956934, 19.201780198702878]]], &quot;type&quot;: &quot;Polygon&quot;}, &quot;properties&quot;: {&quot;name&quot;: &quot;Haus1&quot;}, &quot;type&quot;: &quot;Feature&quot;}], &quot;type&quot;: &quot;FeatureCollection&quot;});\n\n        \n&lt;/script&gt;\n&lt;/html&gt;\" style=\"position:absolute;width:100%;height:100%;left:0;top:0;border:none !important;\" allowfullscreen webkitallowfullscreen mozallowfullscreen></iframe></div></div>"
                },
                "metadata": {}
              }
            ]
          }
        },
        "cbb7e8171dc14107b18df2d2d36eea47": {
          "model_module": "@jupyter-widgets/base",
          "model_name": "LayoutModel",
          "model_module_version": "1.2.0",
          "state": {
            "_model_module": "@jupyter-widgets/base",
            "_model_module_version": "1.2.0",
            "_model_name": "LayoutModel",
            "_view_count": null,
            "_view_module": "@jupyter-widgets/base",
            "_view_module_version": "1.2.0",
            "_view_name": "LayoutView",
            "align_content": null,
            "align_items": null,
            "align_self": null,
            "border": null,
            "bottom": null,
            "display": null,
            "flex": null,
            "flex_flow": null,
            "grid_area": null,
            "grid_auto_columns": null,
            "grid_auto_flow": null,
            "grid_auto_rows": null,
            "grid_column": null,
            "grid_gap": null,
            "grid_row": null,
            "grid_template_areas": null,
            "grid_template_columns": null,
            "grid_template_rows": null,
            "height": null,
            "justify_content": null,
            "justify_items": null,
            "left": null,
            "margin": null,
            "max_height": null,
            "max_width": null,
            "min_height": null,
            "min_width": null,
            "object_fit": null,
            "object_position": null,
            "order": null,
            "overflow": null,
            "overflow_x": null,
            "overflow_y": null,
            "padding": null,
            "right": null,
            "top": null,
            "visibility": null,
            "width": null
          }
        },
        "d5bea8f7ca784e10a0fad987af7cad8e": {
          "model_module": "@jupyter-widgets/base",
          "model_name": "LayoutModel",
          "model_module_version": "1.2.0",
          "state": {
            "_model_module": "@jupyter-widgets/base",
            "_model_module_version": "1.2.0",
            "_model_name": "LayoutModel",
            "_view_count": null,
            "_view_module": "@jupyter-widgets/base",
            "_view_module_version": "1.2.0",
            "_view_name": "LayoutView",
            "align_content": null,
            "align_items": null,
            "align_self": null,
            "border": null,
            "bottom": null,
            "display": null,
            "flex": null,
            "flex_flow": null,
            "grid_area": null,
            "grid_auto_columns": null,
            "grid_auto_flow": null,
            "grid_auto_rows": null,
            "grid_column": null,
            "grid_gap": null,
            "grid_row": null,
            "grid_template_areas": null,
            "grid_template_columns": null,
            "grid_template_rows": null,
            "height": null,
            "justify_content": null,
            "justify_items": null,
            "left": null,
            "margin": null,
            "max_height": null,
            "max_width": null,
            "min_height": null,
            "min_width": null,
            "object_fit": null,
            "object_position": null,
            "order": null,
            "overflow": null,
            "overflow_x": null,
            "overflow_y": null,
            "padding": null,
            "right": null,
            "top": null,
            "visibility": null,
            "width": null
          }
        },
        "a704848b4fae40598352efc7b8d06378": {
          "model_module": "@jupyter-widgets/controls",
          "model_name": "DescriptionStyleModel",
          "model_module_version": "1.5.0",
          "state": {
            "_model_module": "@jupyter-widgets/controls",
            "_model_module_version": "1.5.0",
            "_model_name": "DescriptionStyleModel",
            "_view_count": null,
            "_view_module": "@jupyter-widgets/base",
            "_view_module_version": "1.2.0",
            "_view_name": "StyleView",
            "description_width": ""
          }
        },
        "ed61675e2a6f4f6f85ba1408a7bc9120": {
          "model_module": "@jupyter-widgets/base",
          "model_name": "LayoutModel",
          "model_module_version": "1.2.0",
          "state": {
            "_model_module": "@jupyter-widgets/base",
            "_model_module_version": "1.2.0",
            "_model_name": "LayoutModel",
            "_view_count": null,
            "_view_module": "@jupyter-widgets/base",
            "_view_module_version": "1.2.0",
            "_view_name": "LayoutView",
            "align_content": null,
            "align_items": null,
            "align_self": null,
            "border": null,
            "bottom": null,
            "display": null,
            "flex": null,
            "flex_flow": null,
            "grid_area": null,
            "grid_auto_columns": null,
            "grid_auto_flow": null,
            "grid_auto_rows": null,
            "grid_column": null,
            "grid_gap": null,
            "grid_row": null,
            "grid_template_areas": null,
            "grid_template_columns": null,
            "grid_template_rows": null,
            "height": null,
            "justify_content": null,
            "justify_items": null,
            "left": null,
            "margin": null,
            "max_height": null,
            "max_width": null,
            "min_height": null,
            "min_width": null,
            "object_fit": null,
            "object_position": null,
            "order": null,
            "overflow": null,
            "overflow_x": null,
            "overflow_y": null,
            "padding": null,
            "right": null,
            "top": null,
            "visibility": null,
            "width": null
          }
        }
      }
    }
  },
  "cells": [
    {
      "cell_type": "markdown",
      "source": [
        "To Run All the code go to Runtime and run all"
      ],
      "metadata": {
        "id": "0MfJBry9anz8"
      }
    },
    {
      "cell_type": "code",
      "source": [
        "import folium\n",
        "from folium import plugins\n",
        "import pandas as pd\n",
        "\n",
        "import ipywidgets\n",
        "import os\n",
        "import json\n",
        "\n",
        "from IPython.display import YouTubeVideo\n",
        "import datetime"
      ],
      "metadata": {
        "id": "k5dQf4FMToCo"
      },
      "execution_count": null,
      "outputs": []
    },
    {
      "cell_type": "code",
      "source": [
        "!git clone https://github.com/Altamash2002/HospitalNavigator.git"
      ],
      "metadata": {
        "colab": {
          "base_uri": "https://localhost:8080/"
        },
        "id": "jRQOZuDkXEMf",
        "outputId": "33dae758-6ac9-4e16-e7be-d9b027d804dc"
      },
      "execution_count": null,
      "outputs": [
        {
          "output_type": "stream",
          "name": "stdout",
          "text": [
            "Cloning into 'HospitalNavigator'...\n",
            "remote: Enumerating objects: 201, done.\u001b[K\n",
            "remote: Counting objects: 100% (201/201), done.\u001b[K\n",
            "remote: Compressing objects: 100% (190/190), done.\u001b[K\n",
            "remote: Total 201 (delta 22), reused 190 (delta 11), pack-reused 0\u001b[K\n",
            "Receiving objects: 100% (201/201), 136.07 KiB | 9.07 MiB/s, done.\n",
            "Resolving deltas: 100% (22/22), done.\n"
          ]
        }
      ]
    },
    {
      "cell_type": "code",
      "source": [
        "# the latitude and Longitude coordinates\n",
        "UMMlocation = (19.2007634168898,72.98231011452688)\n",
        "map_UMM = folium.Map(location = UMMlocation, width = \"75%\", zoom_start = 17) # max zoom: 18\n",
        "map_UMM"
      ],
      "metadata": {
        "colab": {
          "base_uri": "https://localhost:8080/",
          "height": 866
        },
        "id": "YYupsRK3TwRu",
        "outputId": "724c2dbe-e446-4bc2-970c-f3034b65d794"
      },
      "execution_count": null,
      "outputs": [
        {
          "output_type": "execute_result",
          "data": {
            "text/plain": [
              "<folium.folium.Map at 0x7f2446b980a0>"
            ],
            "text/html": [
              "<div style=\"width:100%;\"><div style=\"position:relative;width:100%;height:0;padding-bottom:60%;\"><span style=\"color:#565656\">Make this Notebook Trusted to load map: File -> Trust Notebook</span><iframe srcdoc=\"&lt;!DOCTYPE html&gt;\n",
              "&lt;html&gt;\n",
              "&lt;head&gt;\n",
              "    \n",
              "    &lt;meta http-equiv=&quot;content-type&quot; content=&quot;text/html; charset=UTF-8&quot; /&gt;\n",
              "    \n",
              "        &lt;script&gt;\n",
              "            L_NO_TOUCH = false;\n",
              "            L_DISABLE_3D = false;\n",
              "        &lt;/script&gt;\n",
              "    \n",
              "    &lt;style&gt;html, body {width: 100%;height: 100%;margin: 0;padding: 0;}&lt;/style&gt;\n",
              "    &lt;style&gt;#map {position:absolute;top:0;bottom:0;right:0;left:0;}&lt;/style&gt;\n",
              "    &lt;script src=&quot;https://cdn.jsdelivr.net/npm/leaflet@1.6.0/dist/leaflet.js&quot;&gt;&lt;/script&gt;\n",
              "    &lt;script src=&quot;https://code.jquery.com/jquery-1.12.4.min.js&quot;&gt;&lt;/script&gt;\n",
              "    &lt;script src=&quot;https://maxcdn.bootstrapcdn.com/bootstrap/3.2.0/js/bootstrap.min.js&quot;&gt;&lt;/script&gt;\n",
              "    &lt;script src=&quot;https://cdnjs.cloudflare.com/ajax/libs/Leaflet.awesome-markers/2.0.2/leaflet.awesome-markers.js&quot;&gt;&lt;/script&gt;\n",
              "    &lt;link rel=&quot;stylesheet&quot; href=&quot;https://cdn.jsdelivr.net/npm/leaflet@1.6.0/dist/leaflet.css&quot;/&gt;\n",
              "    &lt;link rel=&quot;stylesheet&quot; href=&quot;https://maxcdn.bootstrapcdn.com/bootstrap/3.2.0/css/bootstrap.min.css&quot;/&gt;\n",
              "    &lt;link rel=&quot;stylesheet&quot; href=&quot;https://maxcdn.bootstrapcdn.com/bootstrap/3.2.0/css/bootstrap-theme.min.css&quot;/&gt;\n",
              "    &lt;link rel=&quot;stylesheet&quot; href=&quot;https://maxcdn.bootstrapcdn.com/font-awesome/4.6.3/css/font-awesome.min.css&quot;/&gt;\n",
              "    &lt;link rel=&quot;stylesheet&quot; href=&quot;https://cdnjs.cloudflare.com/ajax/libs/Leaflet.awesome-markers/2.0.2/leaflet.awesome-markers.css&quot;/&gt;\n",
              "    &lt;link rel=&quot;stylesheet&quot; href=&quot;https://cdn.jsdelivr.net/gh/python-visualization/folium/folium/templates/leaflet.awesome.rotate.min.css&quot;/&gt;\n",
              "    \n",
              "            &lt;meta name=&quot;viewport&quot; content=&quot;width=device-width,\n",
              "                initial-scale=1.0, maximum-scale=1.0, user-scalable=no&quot; /&gt;\n",
              "            &lt;style&gt;\n",
              "                #map_ede17549e1462d65e1ad6d697b23a5df {\n",
              "                    position: relative;\n",
              "                    width: 75.0%;\n",
              "                    height: 100.0%;\n",
              "                    left: 0.0%;\n",
              "                    top: 0.0%;\n",
              "                }\n",
              "            &lt;/style&gt;\n",
              "        \n",
              "&lt;/head&gt;\n",
              "&lt;body&gt;\n",
              "    \n",
              "    \n",
              "            &lt;div class=&quot;folium-map&quot; id=&quot;map_ede17549e1462d65e1ad6d697b23a5df&quot; &gt;&lt;/div&gt;\n",
              "        \n",
              "&lt;/body&gt;\n",
              "&lt;script&gt;\n",
              "    \n",
              "    \n",
              "            var map_ede17549e1462d65e1ad6d697b23a5df = L.map(\n",
              "                &quot;map_ede17549e1462d65e1ad6d697b23a5df&quot;,\n",
              "                {\n",
              "                    center: [19.2007634168898, 72.98231011452688],\n",
              "                    crs: L.CRS.EPSG3857,\n",
              "                    zoom: 17,\n",
              "                    zoomControl: true,\n",
              "                    preferCanvas: false,\n",
              "                }\n",
              "            );\n",
              "\n",
              "            \n",
              "\n",
              "        \n",
              "    \n",
              "            var tile_layer_dc96917eaff8fd2316bd5368c8c230e9 = L.tileLayer(\n",
              "                &quot;https://{s}.tile.openstreetmap.org/{z}/{x}/{y}.png&quot;,\n",
              "                {&quot;attribution&quot;: &quot;Data by \\u0026copy; \\u003ca href=\\&quot;http://openstreetmap.org\\&quot;\\u003eOpenStreetMap\\u003c/a\\u003e, under \\u003ca href=\\&quot;http://www.openstreetmap.org/copyright\\&quot;\\u003eODbL\\u003c/a\\u003e.&quot;, &quot;detectRetina&quot;: false, &quot;maxNativeZoom&quot;: 18, &quot;maxZoom&quot;: 18, &quot;minZoom&quot;: 0, &quot;noWrap&quot;: false, &quot;opacity&quot;: 1, &quot;subdomains&quot;: &quot;abc&quot;, &quot;tms&quot;: false}\n",
              "            ).addTo(map_ede17549e1462d65e1ad6d697b23a5df);\n",
              "        \n",
              "&lt;/script&gt;\n",
              "&lt;/html&gt;\" style=\"position:absolute;width:100%;height:100%;left:0;top:0;border:none !important;\" allowfullscreen webkitallowfullscreen mozallowfullscreen></iframe></div></div>"
            ]
          },
          "metadata": {},
          "execution_count": 3
        }
      ]
    },
    {
      "cell_type": "code",
      "source": [
        "testGeoJson = 'HospitalNavigator/GeoResources/path/w22.geojson'"
      ],
      "metadata": {
        "id": "c9wpvrD6UEdL"
      },
      "execution_count": null,
      "outputs": []
    },
    {
      "cell_type": "code",
      "source": [
        "def switchPosition(coordinate):\n",
        "  temp = coordinate[0]\n",
        "  coordinate[0] = coordinate[1]\n",
        "  coordinate[1] = temp\n",
        "  return coordinate"
      ],
      "metadata": {
        "id": "YV2q4NEMUHu4"
      },
      "execution_count": null,
      "outputs": []
    },
    {
      "cell_type": "code",
      "source": [
        "with open(testGeoJson) as f:\n",
        "  testWay = json.load(f)\n",
        "\n",
        "for feature in testWay['features']:\n",
        "    path = feature['geometry']['coordinates']\n",
        "finalPath = list(map(switchPosition,path))\n",
        "finalPath"
      ],
      "metadata": {
        "colab": {
          "base_uri": "https://localhost:8080/"
        },
        "id": "NYOeknPeUKJT",
        "outputId": "f172e1c4-ff67-4aca-8d0a-fb2a7bc66656"
      },
      "execution_count": null,
      "outputs": [
        {
          "output_type": "execute_result",
          "data": {
            "text/plain": [
              "[[19.197447900614733, 72.98367020595023],\n",
              " [19.197908209400282, 72.98367020595023],\n",
              " [19.19810124173442, 72.98394535903009],\n",
              " [19.198383365506146, 72.98392963599653],\n",
              " [19.19856154869234, 72.98438560395869],\n",
              " [19.200350794154758, 72.98458214187255]]"
            ]
          },
          "metadata": {},
          "execution_count": 6
        }
      ]
    },
    {
      "cell_type": "code",
      "source": [
        "path = 'HospitalNavigator/GeoResources/path/w22.geojson'\n",
        "folium.plugins.AntPath([[19.197458724095526, 72.98346780904069],\n",
        " [19.19849251740689, 72.98335358259408],\n",
        " [19.198420601560912, 72.98417220546551],\n",
        " [19.198735233155745, 72.9845529602888],\n",
        " [19.200308382107593, 72.98465766786452]]).add_to(map_UMM)\n",
        "map_UMM"
      ],
      "metadata": {
        "colab": {
          "base_uri": "https://localhost:8080/",
          "height": 866
        },
        "id": "egfDJ-obUl9x",
        "outputId": "aaabe93d-580d-4bdb-9de8-601d468b6ec8"
      },
      "execution_count": null,
      "outputs": [
        {
          "output_type": "execute_result",
          "data": {
            "text/plain": [
              "<folium.folium.Map at 0x7f2446b980a0>"
            ],
            "text/html": [
              "<div style=\"width:100%;\"><div style=\"position:relative;width:100%;height:0;padding-bottom:60%;\"><span style=\"color:#565656\">Make this Notebook Trusted to load map: File -> Trust Notebook</span><iframe srcdoc=\"&lt;!DOCTYPE html&gt;\n",
              "&lt;html&gt;\n",
              "&lt;head&gt;\n",
              "    \n",
              "    &lt;meta http-equiv=&quot;content-type&quot; content=&quot;text/html; charset=UTF-8&quot; /&gt;\n",
              "    \n",
              "        &lt;script&gt;\n",
              "            L_NO_TOUCH = false;\n",
              "            L_DISABLE_3D = false;\n",
              "        &lt;/script&gt;\n",
              "    \n",
              "    &lt;style&gt;html, body {width: 100%;height: 100%;margin: 0;padding: 0;}&lt;/style&gt;\n",
              "    &lt;style&gt;#map {position:absolute;top:0;bottom:0;right:0;left:0;}&lt;/style&gt;\n",
              "    &lt;script src=&quot;https://cdn.jsdelivr.net/npm/leaflet@1.6.0/dist/leaflet.js&quot;&gt;&lt;/script&gt;\n",
              "    &lt;script src=&quot;https://code.jquery.com/jquery-1.12.4.min.js&quot;&gt;&lt;/script&gt;\n",
              "    &lt;script src=&quot;https://maxcdn.bootstrapcdn.com/bootstrap/3.2.0/js/bootstrap.min.js&quot;&gt;&lt;/script&gt;\n",
              "    &lt;script src=&quot;https://cdnjs.cloudflare.com/ajax/libs/Leaflet.awesome-markers/2.0.2/leaflet.awesome-markers.js&quot;&gt;&lt;/script&gt;\n",
              "    &lt;link rel=&quot;stylesheet&quot; href=&quot;https://cdn.jsdelivr.net/npm/leaflet@1.6.0/dist/leaflet.css&quot;/&gt;\n",
              "    &lt;link rel=&quot;stylesheet&quot; href=&quot;https://maxcdn.bootstrapcdn.com/bootstrap/3.2.0/css/bootstrap.min.css&quot;/&gt;\n",
              "    &lt;link rel=&quot;stylesheet&quot; href=&quot;https://maxcdn.bootstrapcdn.com/bootstrap/3.2.0/css/bootstrap-theme.min.css&quot;/&gt;\n",
              "    &lt;link rel=&quot;stylesheet&quot; href=&quot;https://maxcdn.bootstrapcdn.com/font-awesome/4.6.3/css/font-awesome.min.css&quot;/&gt;\n",
              "    &lt;link rel=&quot;stylesheet&quot; href=&quot;https://cdnjs.cloudflare.com/ajax/libs/Leaflet.awesome-markers/2.0.2/leaflet.awesome-markers.css&quot;/&gt;\n",
              "    &lt;link rel=&quot;stylesheet&quot; href=&quot;https://cdn.jsdelivr.net/gh/python-visualization/folium/folium/templates/leaflet.awesome.rotate.min.css&quot;/&gt;\n",
              "    \n",
              "            &lt;meta name=&quot;viewport&quot; content=&quot;width=device-width,\n",
              "                initial-scale=1.0, maximum-scale=1.0, user-scalable=no&quot; /&gt;\n",
              "            &lt;style&gt;\n",
              "                #map_ede17549e1462d65e1ad6d697b23a5df {\n",
              "                    position: relative;\n",
              "                    width: 75.0%;\n",
              "                    height: 100.0%;\n",
              "                    left: 0.0%;\n",
              "                    top: 0.0%;\n",
              "                }\n",
              "            &lt;/style&gt;\n",
              "        \n",
              "    &lt;script src=&quot;https://cdn.jsdelivr.net/npm/leaflet-ant-path@1.1.2/dist/leaflet-ant-path.min.js&quot;&gt;&lt;/script&gt;\n",
              "&lt;/head&gt;\n",
              "&lt;body&gt;\n",
              "    \n",
              "    \n",
              "            &lt;div class=&quot;folium-map&quot; id=&quot;map_ede17549e1462d65e1ad6d697b23a5df&quot; &gt;&lt;/div&gt;\n",
              "        \n",
              "&lt;/body&gt;\n",
              "&lt;script&gt;\n",
              "    \n",
              "    \n",
              "            var map_ede17549e1462d65e1ad6d697b23a5df = L.map(\n",
              "                &quot;map_ede17549e1462d65e1ad6d697b23a5df&quot;,\n",
              "                {\n",
              "                    center: [19.2007634168898, 72.98231011452688],\n",
              "                    crs: L.CRS.EPSG3857,\n",
              "                    zoom: 17,\n",
              "                    zoomControl: true,\n",
              "                    preferCanvas: false,\n",
              "                }\n",
              "            );\n",
              "\n",
              "            \n",
              "\n",
              "        \n",
              "    \n",
              "            var tile_layer_dc96917eaff8fd2316bd5368c8c230e9 = L.tileLayer(\n",
              "                &quot;https://{s}.tile.openstreetmap.org/{z}/{x}/{y}.png&quot;,\n",
              "                {&quot;attribution&quot;: &quot;Data by \\u0026copy; \\u003ca href=\\&quot;http://openstreetmap.org\\&quot;\\u003eOpenStreetMap\\u003c/a\\u003e, under \\u003ca href=\\&quot;http://www.openstreetmap.org/copyright\\&quot;\\u003eODbL\\u003c/a\\u003e.&quot;, &quot;detectRetina&quot;: false, &quot;maxNativeZoom&quot;: 18, &quot;maxZoom&quot;: 18, &quot;minZoom&quot;: 0, &quot;noWrap&quot;: false, &quot;opacity&quot;: 1, &quot;subdomains&quot;: &quot;abc&quot;, &quot;tms&quot;: false}\n",
              "            ).addTo(map_ede17549e1462d65e1ad6d697b23a5df);\n",
              "        \n",
              "    \n",
              "            ant_path_7f6e3e4e6c674b75efbf3a76f7f7faaa = L.polyline.antPath(\n",
              "              [[19.197458724095526, 72.98346780904069], [19.19849251740689, 72.98335358259408], [19.198420601560912, 72.98417220546551], [19.198735233155745, 72.9845529602888], [19.200308382107593, 72.98465766786452]],\n",
              "              {&quot;bubblingMouseEvents&quot;: true, &quot;color&quot;: &quot;#0000FF&quot;, &quot;dashArray&quot;: [10, 20], &quot;dashOffset&quot;: null, &quot;delay&quot;: 400, &quot;fill&quot;: false, &quot;fillColor&quot;: &quot;#3388ff&quot;, &quot;fillOpacity&quot;: 0.2, &quot;fillRule&quot;: &quot;evenodd&quot;, &quot;hardwareAcceleration&quot;: false, &quot;lineCap&quot;: &quot;round&quot;, &quot;lineJoin&quot;: &quot;round&quot;, &quot;noClip&quot;: false, &quot;opacity&quot;: 0.5, &quot;paused&quot;: false, &quot;pulseColor&quot;: &quot;#FFFFFF&quot;, &quot;reverse&quot;: false, &quot;smoothFactor&quot;: 1.0, &quot;stroke&quot;: true, &quot;weight&quot;: 5}\n",
              "        ).addTo(map_ede17549e1462d65e1ad6d697b23a5df);\n",
              "        \n",
              "&lt;/script&gt;\n",
              "&lt;/html&gt;\" style=\"position:absolute;width:100%;height:100%;left:0;top:0;border:none !important;\" allowfullscreen webkitallowfullscreen mozallowfullscreen></iframe></div></div>"
            ]
          },
          "metadata": {},
          "execution_count": 7
        }
      ]
    },
    {
      "cell_type": "code",
      "source": [
        "hauseOutline = 'HospitalNavigator/GeoResources/Haus22.geojson'\n",
        "display(folium.GeoJson(hauseOutline, name=\"Haus22\").add_to(map_UMM))\n",
        "display(map_UMM)"
      ],
      "metadata": {
        "colab": {
          "base_uri": "https://localhost:8080/",
          "height": 883
        },
        "id": "VYsOCQHIUuk1",
        "outputId": "027e25e4-319d-4fa9-d52b-565c1758e20b"
      },
      "execution_count": null,
      "outputs": [
        {
          "output_type": "display_data",
          "data": {
            "text/plain": [
              "<folium.features.GeoJson at 0x7f2446ba75b0>"
            ]
          },
          "metadata": {}
        },
        {
          "output_type": "display_data",
          "data": {
            "text/plain": [
              "<folium.folium.Map at 0x7f2446b980a0>"
            ],
            "text/html": [
              "<div style=\"width:100%;\"><div style=\"position:relative;width:100%;height:0;padding-bottom:60%;\"><span style=\"color:#565656\">Make this Notebook Trusted to load map: File -> Trust Notebook</span><iframe srcdoc=\"&lt;!DOCTYPE html&gt;\n",
              "&lt;html&gt;\n",
              "&lt;head&gt;\n",
              "    \n",
              "    &lt;meta http-equiv=&quot;content-type&quot; content=&quot;text/html; charset=UTF-8&quot; /&gt;\n",
              "    \n",
              "        &lt;script&gt;\n",
              "            L_NO_TOUCH = false;\n",
              "            L_DISABLE_3D = false;\n",
              "        &lt;/script&gt;\n",
              "    \n",
              "    &lt;style&gt;html, body {width: 100%;height: 100%;margin: 0;padding: 0;}&lt;/style&gt;\n",
              "    &lt;style&gt;#map {position:absolute;top:0;bottom:0;right:0;left:0;}&lt;/style&gt;\n",
              "    &lt;script src=&quot;https://cdn.jsdelivr.net/npm/leaflet@1.6.0/dist/leaflet.js&quot;&gt;&lt;/script&gt;\n",
              "    &lt;script src=&quot;https://code.jquery.com/jquery-1.12.4.min.js&quot;&gt;&lt;/script&gt;\n",
              "    &lt;script src=&quot;https://maxcdn.bootstrapcdn.com/bootstrap/3.2.0/js/bootstrap.min.js&quot;&gt;&lt;/script&gt;\n",
              "    &lt;script src=&quot;https://cdnjs.cloudflare.com/ajax/libs/Leaflet.awesome-markers/2.0.2/leaflet.awesome-markers.js&quot;&gt;&lt;/script&gt;\n",
              "    &lt;link rel=&quot;stylesheet&quot; href=&quot;https://cdn.jsdelivr.net/npm/leaflet@1.6.0/dist/leaflet.css&quot;/&gt;\n",
              "    &lt;link rel=&quot;stylesheet&quot; href=&quot;https://maxcdn.bootstrapcdn.com/bootstrap/3.2.0/css/bootstrap.min.css&quot;/&gt;\n",
              "    &lt;link rel=&quot;stylesheet&quot; href=&quot;https://maxcdn.bootstrapcdn.com/bootstrap/3.2.0/css/bootstrap-theme.min.css&quot;/&gt;\n",
              "    &lt;link rel=&quot;stylesheet&quot; href=&quot;https://maxcdn.bootstrapcdn.com/font-awesome/4.6.3/css/font-awesome.min.css&quot;/&gt;\n",
              "    &lt;link rel=&quot;stylesheet&quot; href=&quot;https://cdnjs.cloudflare.com/ajax/libs/Leaflet.awesome-markers/2.0.2/leaflet.awesome-markers.css&quot;/&gt;\n",
              "    &lt;link rel=&quot;stylesheet&quot; href=&quot;https://cdn.jsdelivr.net/gh/python-visualization/folium/folium/templates/leaflet.awesome.rotate.min.css&quot;/&gt;\n",
              "    \n",
              "            &lt;meta name=&quot;viewport&quot; content=&quot;width=device-width,\n",
              "                initial-scale=1.0, maximum-scale=1.0, user-scalable=no&quot; /&gt;\n",
              "            &lt;style&gt;\n",
              "                #map_ede17549e1462d65e1ad6d697b23a5df {\n",
              "                    position: relative;\n",
              "                    width: 75.0%;\n",
              "                    height: 100.0%;\n",
              "                    left: 0.0%;\n",
              "                    top: 0.0%;\n",
              "                }\n",
              "            &lt;/style&gt;\n",
              "        \n",
              "    &lt;script src=&quot;https://cdn.jsdelivr.net/npm/leaflet-ant-path@1.1.2/dist/leaflet-ant-path.min.js&quot;&gt;&lt;/script&gt;\n",
              "&lt;/head&gt;\n",
              "&lt;body&gt;\n",
              "    \n",
              "    \n",
              "            &lt;div class=&quot;folium-map&quot; id=&quot;map_ede17549e1462d65e1ad6d697b23a5df&quot; &gt;&lt;/div&gt;\n",
              "        \n",
              "&lt;/body&gt;\n",
              "&lt;script&gt;\n",
              "    \n",
              "    \n",
              "            var map_ede17549e1462d65e1ad6d697b23a5df = L.map(\n",
              "                &quot;map_ede17549e1462d65e1ad6d697b23a5df&quot;,\n",
              "                {\n",
              "                    center: [19.2007634168898, 72.98231011452688],\n",
              "                    crs: L.CRS.EPSG3857,\n",
              "                    zoom: 17,\n",
              "                    zoomControl: true,\n",
              "                    preferCanvas: false,\n",
              "                }\n",
              "            );\n",
              "\n",
              "            \n",
              "\n",
              "        \n",
              "    \n",
              "            var tile_layer_dc96917eaff8fd2316bd5368c8c230e9 = L.tileLayer(\n",
              "                &quot;https://{s}.tile.openstreetmap.org/{z}/{x}/{y}.png&quot;,\n",
              "                {&quot;attribution&quot;: &quot;Data by \\u0026copy; \\u003ca href=\\&quot;http://openstreetmap.org\\&quot;\\u003eOpenStreetMap\\u003c/a\\u003e, under \\u003ca href=\\&quot;http://www.openstreetmap.org/copyright\\&quot;\\u003eODbL\\u003c/a\\u003e.&quot;, &quot;detectRetina&quot;: false, &quot;maxNativeZoom&quot;: 18, &quot;maxZoom&quot;: 18, &quot;minZoom&quot;: 0, &quot;noWrap&quot;: false, &quot;opacity&quot;: 1, &quot;subdomains&quot;: &quot;abc&quot;, &quot;tms&quot;: false}\n",
              "            ).addTo(map_ede17549e1462d65e1ad6d697b23a5df);\n",
              "        \n",
              "    \n",
              "            ant_path_7f6e3e4e6c674b75efbf3a76f7f7faaa = L.polyline.antPath(\n",
              "              [[19.197458724095526, 72.98346780904069], [19.19849251740689, 72.98335358259408], [19.198420601560912, 72.98417220546551], [19.198735233155745, 72.9845529602888], [19.200308382107593, 72.98465766786452]],\n",
              "              {&quot;bubblingMouseEvents&quot;: true, &quot;color&quot;: &quot;#0000FF&quot;, &quot;dashArray&quot;: [10, 20], &quot;dashOffset&quot;: null, &quot;delay&quot;: 400, &quot;fill&quot;: false, &quot;fillColor&quot;: &quot;#3388ff&quot;, &quot;fillOpacity&quot;: 0.2, &quot;fillRule&quot;: &quot;evenodd&quot;, &quot;hardwareAcceleration&quot;: false, &quot;lineCap&quot;: &quot;round&quot;, &quot;lineJoin&quot;: &quot;round&quot;, &quot;noClip&quot;: false, &quot;opacity&quot;: 0.5, &quot;paused&quot;: false, &quot;pulseColor&quot;: &quot;#FFFFFF&quot;, &quot;reverse&quot;: false, &quot;smoothFactor&quot;: 1.0, &quot;stroke&quot;: true, &quot;weight&quot;: 5}\n",
              "        ).addTo(map_ede17549e1462d65e1ad6d697b23a5df);\n",
              "        \n",
              "    \n",
              "\n",
              "        function geo_json_20d6106f213e7ce466d9bad461cc2a01_onEachFeature(feature, layer) {\n",
              "            layer.on({\n",
              "            });\n",
              "        };\n",
              "        var geo_json_20d6106f213e7ce466d9bad461cc2a01 = L.geoJson(null, {\n",
              "                onEachFeature: geo_json_20d6106f213e7ce466d9bad461cc2a01_onEachFeature,\n",
              "            \n",
              "        });\n",
              "\n",
              "        function geo_json_20d6106f213e7ce466d9bad461cc2a01_add (data) {\n",
              "            geo_json_20d6106f213e7ce466d9bad461cc2a01\n",
              "                .addData(data)\n",
              "                .addTo(map_ede17549e1462d65e1ad6d697b23a5df);\n",
              "        }\n",
              "            geo_json_20d6106f213e7ce466d9bad461cc2a01_add({&quot;features&quot;: [{&quot;geometry&quot;: {&quot;coordinates&quot;: [[[72.9843437728201, 19.200653011771493], [72.9843437728201, 19.200230689988572], [72.98487031201748, 19.200230689988572], [72.98487031201748, 19.200653011771493], [72.9843437728201, 19.200653011771493]]], &quot;type&quot;: &quot;Polygon&quot;}, &quot;properties&quot;: {&quot;fill&quot;: &quot;#eec42b&quot;, &quot;fill-opacity&quot;: 1, &quot;stroke&quot;: &quot;#555555&quot;, &quot;stroke-opacity&quot;: 1, &quot;stroke-width&quot;: 2}, &quot;type&quot;: &quot;Feature&quot;}], &quot;type&quot;: &quot;FeatureCollection&quot;});\n",
              "\n",
              "        \n",
              "&lt;/script&gt;\n",
              "&lt;/html&gt;\" style=\"position:absolute;width:100%;height:100%;left:0;top:0;border:none !important;\" allowfullscreen webkitallowfullscreen mozallowfullscreen></iframe></div></div>"
            ]
          },
          "metadata": {}
        }
      ]
    },
    {
      "cell_type": "code",
      "source": [
        "class navigator:\n",
        "    def __init__(self):\n",
        "        self.geoResources = {}\n",
        "        self.hospitalLocation =(19.197458724095526, 72.98346780904069)\n",
        "        self.position = 'w'\n",
        "        self.destination = 'Haus17'\n",
        "\n",
        "        for root, dirs, files in os.walk('HospitalNavigator/GeoResources'):  \n",
        "            for file in files:\n",
        "                self.geoResources[file.split('.')[0]] = root+'/'+file\n",
        "\n",
        "    def changeDestination(self,newDestination):\n",
        "        self.destination = newDestination\n",
        "        self.redrawMap()\n",
        "\n",
        "    def changeStartPoint(self, newStartPoint):\n",
        "        \n",
        "        #self.position = newStartPoint #does not work yet\n",
        "        print(f'Selected Start: {newStartPoint}; Selected Target: {self.destination}')\n",
        "        #self.redrawMap()\n",
        "        \n",
        "\n",
        "    def drawPathWay(self,hospitalMap):\n",
        "      \n",
        "      def switchPosition(coordinate):\n",
        "        temp = coordinate[0]\n",
        "        coordinate[0] = coordinate[1]\n",
        "        coordinate[1] = temp\n",
        "        return coordinate\n",
        "\n",
        "      searchString = self.position + self.destination.split('Haus')[1]\n",
        "      with open(self.geoResources[searchString]) as f:\n",
        "           testWay = json.load(f)\n",
        "\n",
        "      for feature in testWay['features']:\n",
        "        path = feature['geometry']['coordinates']\n",
        "\n",
        "      finalPath = list(map(switchPosition,path))\n",
        "      folium.plugins.AntPath(finalPath).add_to(hospitalMap)\n",
        "\n",
        "    def drawBuilding(self,hospitalMap):\n",
        "      hauseOutline = self.geoResources[self.destination]\n",
        "      folium.GeoJson(hauseOutline, name=\"geojson\").add_to(hospitalMap)\n",
        "\n",
        "    def redrawMap(self):\n",
        "        #print(f'position {self.position}, destination {self.destination}')\n",
        "        hospitalMap = folium.Map(location = self.hospitalLocation, width = \"75%\", zoom_start = 17)\n",
        "        self.drawPathWay(hospitalMap)\n",
        "        self.drawBuilding(hospitalMap)\n",
        "        display(hospitalMap)"
      ],
      "metadata": {
        "id": "Sg-NuL1lfEDA"
      },
      "execution_count": null,
      "outputs": []
    },
    {
      "cell_type": "code",
      "source": [
        "myNavigator = navigator()"
      ],
      "metadata": {
        "id": "FIIRrgasfGTx"
      },
      "execution_count": null,
      "outputs": []
    },
    {
      "cell_type": "code",
      "source": [
        "def displayWay(whereTo):\n",
        "     myNavigator.changeDestination(whereTo)"
      ],
      "metadata": {
        "id": "czk1AggEfJ5S"
      },
      "execution_count": null,
      "outputs": []
    },
    {
      "cell_type": "code",
      "source": [
        "def changePosition(whereFrom):\n",
        "    myNavigator.changeStartPoint(whereFrom)"
      ],
      "metadata": {
        "id": "OMtWEAOXfOrH"
      },
      "execution_count": null,
      "outputs": []
    },
    {
      "cell_type": "code",
      "source": [
        "# Destination Selector\n",
        "selectHouse_widget=ipywidgets.Select(\n",
        "    \n",
        "options=['Haus1',\n",
        "    'Haus10',\n",
        "    'Haus11',\n",
        "    'Haus12',\n",
        "    'Haus13',\n",
        "    'Haus14',\n",
        "    'Haus15',\n",
        "    'Haus16',\n",
        "    'Haus17',\n",
        "    'Haus19',\n",
        "    'Haus2',\n",
        "    'Haus20',\n",
        "    'Haus22',\n",
        "    'Haus24',\n",
        "    'Haus25',\n",
        "    'Haus26',\n",
        "    'Haus27',\n",
        "    'Haus28',\n",
        "    'Haus29',\n",
        "    'Haus3',\n",
        "    'Haus30',\n",
        "    'Haus31',\n",
        "    'Haus32',\n",
        "    'Haus33',\n",
        "    'Haus34',\n",
        "    'Haus35',\n",
        "    'Haus36',\n",
        "    'Haus37',\n",
        "    'Haus39',\n",
        "    'Haus4',\n",
        "    'Haus40',\n",
        "    'Haus41',\n",
        "    'Haus42',\n",
        "    'Haus43',\n",
        "    'Haus5',\n",
        "    'Haus6',\n",
        "    'Haus7',\n",
        "    'Haus8',\n",
        "    'Haus9'],\n",
        "    value='Haus1',\n",
        "    description='Target',\n",
        "    disabled=False)\n",
        "\n",
        "# widget function\n",
        "def selectHouse(way):\n",
        "    if way == 'Haus1' :\n",
        "        displayWay('Haus1' ) \n",
        "    if way == 'Haus10':\n",
        "        displayWay('Haus10')\n",
        "    if way == 'Haus11':\n",
        "        displayWay('Haus11')\n",
        "    if way == 'Haus12':\n",
        "        displayWay('Haus12')\n",
        "    if way == 'Haus13':\n",
        "        displayWay('Haus13')\n",
        "    if way == 'Haus14':\n",
        "        displayWay('Haus14')\n",
        "    if way == 'Haus15':\n",
        "        displayWay('Haus15')\n",
        "    if way == 'Haus16':\n",
        "        displayWay('Haus16')\n",
        "    if way == 'Haus17':\n",
        "       displayWay('Haus17')\n",
        "    if way == 'Haus19':\n",
        "        displayWay('Haus19')\n",
        "    if way == 'Haus2' :\n",
        "        displayWay('Haus2' ) \n",
        "    if way == 'Haus20':\n",
        "        displayWay('Haus20')\n",
        "    if way == 'Haus22':\n",
        "        displayWay('Haus22')\n",
        "    if way == 'Haus24':\n",
        "        displayWay('Haus24')\n",
        "    if way == 'Haus25':\n",
        "        displayWay('Haus25')\n",
        "    if way == 'Haus26':\n",
        "        displayWay('Haus26')\n",
        "    if way == 'Haus27':\n",
        "        displayWay('Haus27')\n",
        "    if way == 'Haus28':\n",
        "        displayWay('Haus28')\n",
        "    if way == 'Haus29':\n",
        "        displayWay('Haus29')\n",
        "    if way == 'Haus3' :\n",
        "        displayWay('Haus3' ) \n",
        "    if way == 'Haus30':\n",
        "        displayWay('Haus30')\n",
        "    if way == 'Haus31':\n",
        "        displayWay('Haus31')\n",
        "    if way == 'Haus32':\n",
        "        displayWay('Haus32')\n",
        "    if way == 'Haus33':\n",
        "        displayWay('Haus33')\n",
        "    if way == 'Haus34':\n",
        "        displayWay('Haus34')\n",
        "    if way == 'Haus35':\n",
        "        displayWay('Haus35')\n",
        "    if way == 'Haus36':\n",
        "        displayWay('Haus36')\n",
        "    if way == 'Haus37':\n",
        "        displayWay('Haus37')\n",
        "    if way == 'Haus39':\n",
        "        displayWay('Haus39')\n",
        "    if way == 'Haus4' :\n",
        "        displayWay('Haus4' ) \n",
        "    if way == 'Haus40':\n",
        "        displayWay('Haus40')\n",
        "    if way == 'Haus41':\n",
        "        displayWay('Haus41')\n",
        "    if way == 'Haus42':\n",
        "        displayWay('Haus42')\n",
        "    if way == 'Haus43':\n",
        "        displayWay('Haus43')\n",
        "    if way == 'Haus5' :\n",
        "        displayWay('Haus5' ) \n",
        "    if way == 'Haus6' :\n",
        "        displayWay('Haus6' ) \n",
        "    if way == 'Haus7' :\n",
        "        displayWay('Haus7' ) \n",
        "    if way == 'Haus8' :\n",
        "        displayWay('Haus8' ) \n",
        "    if way == 'Haus9' :\n",
        "        displayWay('Haus9' ) \n",
        "\n",
        "# Position Selector\n",
        "selectPosition_widget=ipywidgets.Select(\n",
        "    options=['Aufnahme', 'Eingang West', 'Eingang Ost', 'Eingang Fahrzeuge'],\n",
        "    value='Eingang West',\n",
        "    description='Start',\n",
        "    disabled=False)\n",
        "\n",
        "def selectPosition(position):\n",
        "    if position == 'Aufnahme':\n",
        "        changePosition('a')\n",
        "    if position == 'Eingang West':\n",
        "        changePosition('w')\n",
        "    if position == 'Eingang Ost':\n",
        "        changePosition('o')\n",
        "    if position == 'Eingang Fahrzeuge':\n",
        "        changePosition('f')\n",
        "        \n",
        "#Initialization   \n",
        "ipywidgets.interact(selectPosition, position=selectPosition_widget)\n",
        "ipywidgets.interact(selectHouse, way=selectHouse_widget)"
      ],
      "metadata": {
        "colab": {
          "base_uri": "https://localhost:8080/",
          "height": 1000,
          "referenced_widgets": [
            "61e1522fc4bf4985a4a7798a4e0bd391",
            "8c6538488969483b91322b70e94a774f",
            "864b2535693f4f8680533f3744172c11",
            "4d4f8377979a4bb0b6002b1c4c326b3a",
            "a0cf4393f9a440f5be29d810677d0ca4",
            "f565135ebf1443f3b719258fa8688720",
            "10cfa44ff07d4f4d85e8bc2069197235",
            "298aefb7ff40459bb1691ae19635d764",
            "7843da3178d947c69c0b6af1aa5314ee",
            "3406554ab4b54d4896011d8aa970a2f7",
            "cbb7e8171dc14107b18df2d2d36eea47",
            "d5bea8f7ca784e10a0fad987af7cad8e",
            "a704848b4fae40598352efc7b8d06378",
            "ed61675e2a6f4f6f85ba1408a7bc9120"
          ]
        },
        "id": "Wb0YoUjgfTmy",
        "outputId": "a6791bb3-d259-4874-a8a5-2388282df6a4"
      },
      "execution_count": null,
      "outputs": [
        {
          "output_type": "display_data",
          "data": {
            "text/plain": [
              "interactive(children=(Select(description='Start', index=1, options=('Aufnahme', 'Eingang West', 'Eingang Ost',…"
            ],
            "application/vnd.jupyter.widget-view+json": {
              "version_major": 2,
              "version_minor": 0,
              "model_id": "61e1522fc4bf4985a4a7798a4e0bd391"
            }
          },
          "metadata": {}
        },
        {
          "output_type": "display_data",
          "data": {
            "text/plain": [
              "interactive(children=(Select(description='Target', options=('Haus1', 'Haus10', 'Haus11', 'Haus12', 'Haus13', '…"
            ],
            "application/vnd.jupyter.widget-view+json": {
              "version_major": 2,
              "version_minor": 0,
              "model_id": "298aefb7ff40459bb1691ae19635d764"
            }
          },
          "metadata": {}
        },
        {
          "output_type": "execute_result",
          "data": {
            "text/plain": [
              "<function __main__.selectHouse(way)>"
            ]
          },
          "metadata": {},
          "execution_count": 13
        }
      ]
    }
  ]
}